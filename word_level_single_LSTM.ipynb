{
 "cells": [
  {
   "cell_type": "code",
   "execution_count": 1,
   "metadata": {},
   "outputs": [],
   "source": [
    "# import necessary libraries\n",
    "import numpy as np\n",
    "import matplotlib.pyplot as plt\n",
    "import pandas as pd\n",
    "import treebank\n",
    "import nltk\n",
    "from nltk.corpus import stopwords\n",
    "from nltk.tokenize import word_tokenize\n",
    "from keras.preprocessing.text import Tokenizer\n",
    "from keras.utils import to_categorical\n",
    "from sklearn.model_selection import train_test_split\n",
    "\n",
    "#import libraries for model building\n",
    "from tensorflow.keras.models import Sequential\n",
    "from tensorflow.keras.layers import LSTM,Dense,Embedding"
   ]
  },
  {
   "cell_type": "code",
   "execution_count": 2,
   "metadata": {},
   "outputs": [
    {
     "data": {
      "text/plain": [
       "5101619"
      ]
     },
     "execution_count": 2,
     "metadata": {},
     "output_type": "execute_result"
    }
   ],
   "source": [
    "len(treebank.penn['train']) #characters"
   ]
  },
  {
   "cell_type": "markdown",
   "metadata": {},
   "source": [
    "***Taking a subset of the whole dataset as the training data(150000 characters)***"
   ]
  },
  {
   "cell_type": "code",
   "execution_count": 3,
   "metadata": {},
   "outputs": [],
   "source": [
    "data = treebank.penn['train']\n",
    "data_test = data[:150000]"
   ]
  },
  {
   "cell_type": "markdown",
   "metadata": {},
   "source": [
    "***Data Preprocessing (Cleaning)***"
   ]
  },
  {
   "cell_type": "code",
   "execution_count": 4,
   "metadata": {},
   "outputs": [
    {
     "name": "stdout",
     "output_type": "stream",
     "text": [
      "['ipo', 'kia', 'memotec', 'mlx', 'nahb', 'punts', 'rake', 'regatta', 'rubens', 'sim', 'snack-food', 'ssangyong', 'swapo', 'wachter', 'pierre', '<', 'unk', '>', 'N', 'years', 'old', 'will', 'join', 'the', 'board', 'as', 'a', 'nonexecutive', 'director', 'nov.', 'N', 'mr.', '<', 'unk', '>', 'is', 'chairman', 'of', '<', 'unk']\n",
      "['ipo', 'kia', 'memotec', 'mlx', 'nahb', 'punts', 'rake', 'regatta', 'rubens', 'sim', 'snack-food', 'ssangyong', 'swapo', 'wachter', 'pierre', 'N', 'years', 'old', 'join', 'board', 'nonexecutive', 'director', 'nov.', 'N', 'mr.', 'chairman', 'n.v.', 'dutch', 'publishing', 'group', 'rudolph', 'N', 'years', 'old', 'former', 'chairman', 'consolidated', 'gold', 'fields', 'plc']\n"
     ]
    }
   ],
   "source": [
    "stop_words = set(stopwords.words('english'))\n",
    "stop_words.add('unk')\n",
    "stop_words.add('>')\n",
    "stop_words.add('<')\n",
    "\n",
    "word_tokens = word_tokenize(data_test)\n",
    "\n",
    "filtered_sentence = [w for w in word_tokens if not w in stop_words]\n",
    "\n",
    "print(word_tokens[10:50])\n",
    "print(filtered_sentence[10:50])"
   ]
  },
  {
   "cell_type": "code",
   "execution_count": 5,
   "metadata": {},
   "outputs": [
    {
     "name": "stdout",
     "output_type": "stream",
     "text": [
      "102176\n"
     ]
    }
   ],
   "source": [
    "data_f = \" \"\n",
    "data_final = data_f.join(filtered_sentence)\n",
    "print(len(data_final))"
   ]
  },
  {
   "cell_type": "markdown",
   "metadata": {},
   "source": [
    "***Creating a dictionary of words present in the training dataset***"
   ]
  },
  {
   "cell_type": "code",
   "execution_count": 6,
   "metadata": {},
   "outputs": [],
   "source": [
    "tokenizer=Tokenizer()\n",
    "tokenizer.fit_on_texts([data_final])\n",
    "encoded=tokenizer.texts_to_sequences([data_final])[0]"
   ]
  },
  {
   "cell_type": "code",
   "execution_count": 7,
   "metadata": {},
   "outputs": [
    {
     "data": {
      "text/plain": [
       "3753"
      ]
     },
     "execution_count": 7,
     "metadata": {},
     "output_type": "execute_result"
    }
   ],
   "source": [
    "#define total vocabulary size\n",
    "vocab_size=len(tokenizer.word_index)+1\n",
    "vocab_size"
   ]
  },
  {
   "cell_type": "markdown",
   "metadata": {},
   "source": [
    "***Create seperate lists of 2 sequences since we will use one of them as input and one as output***"
   ]
  },
  {
   "cell_type": "code",
   "execution_count": 8,
   "metadata": {},
   "outputs": [],
   "source": [
    "\n",
    "sequences=[]\n",
    "num_features = 5\n",
    "for i in range(len(encoded)-(num_features+1)):\n",
    "    sequences.append(encoded[i:i+(num_features+1)])"
   ]
  },
  {
   "cell_type": "code",
   "execution_count": 9,
   "metadata": {},
   "outputs": [],
   "source": [
    "#create dependent and independent variable\n",
    "x=[]\n",
    "y=[]\n",
    "for i in range(len(sequences)):\n",
    "    row = []\n",
    "    [row.append(sequences[i][j]) for j in range(num_features)]\n",
    "    x.append(row)\n",
    "    y.append(sequences[i][num_features])"
   ]
  },
  {
   "cell_type": "code",
   "execution_count": 10,
   "metadata": {},
   "outputs": [],
   "source": [
    "#convert list to an array\n",
    "x=np.array(x)\n",
    "y=np.array(y)\n",
    "\n",
    "y=to_categorical(y,vocab_size)"
   ]
  },
  {
   "cell_type": "code",
   "execution_count": 11,
   "metadata": {},
   "outputs": [
    {
     "name": "stdout",
     "output_type": "stream",
     "text": [
      "(9934, 5)\n",
      "(4894, 5)\n",
      "(9934, 3753)\n",
      "(4894, 3753)\n"
     ]
    }
   ],
   "source": [
    "# dataset splitting in train and test sets\n",
    "X_train, X_test, y_train, y_test = train_test_split(x, y, test_size=0.33, random_state=42)\n",
    "print(X_train.shape)\n",
    "print(X_test.shape)\n",
    "print(y_train.shape)\n",
    "print(y_test.shape)"
   ]
  },
  {
   "cell_type": "markdown",
   "metadata": {},
   "source": [
    "***Creating the Single Layer LSTM model***"
   ]
  },
  {
   "cell_type": "code",
   "execution_count": 12,
   "metadata": {},
   "outputs": [],
   "source": [
    "#start building model\n",
    "model=Sequential()\n",
    "\n",
    "#add Embedding layer\n",
    "model.add(Embedding(input_dim=vocab_size,output_dim=10,input_length=num_features))\n",
    "\n",
    "#add LSTM layer\n",
    "model.add(LSTM(60))\n",
    "\n",
    "#output layer\n",
    "model.add(Dense(vocab_size,activation='softmax'))\n",
    "\n",
    "#compile \n",
    "model.compile('adam',loss='categorical_crossentropy',metrics=['accuracy'])"
   ]
  },
  {
   "cell_type": "code",
   "execution_count": 13,
   "metadata": {},
   "outputs": [
    {
     "name": "stdout",
     "output_type": "stream",
     "text": [
      "Epoch 1/50\n",
      "7947/7947 [==============================] - 49s 6ms/step - loss: 7.9189 - accuracy: 0.0420 - val_loss: 7.9881 - val_accuracy: 0.0453\n",
      "Epoch 2/50\n",
      "7947/7947 [==============================] - 36s 5ms/step - loss: 7.1467 - accuracy: 0.0508 - val_loss: 8.4648 - val_accuracy: 0.0513\n",
      "Epoch 3/50\n",
      "7947/7947 [==============================] - 36s 5ms/step - loss: 6.8172 - accuracy: 0.0570 - val_loss: 8.9828 - val_accuracy: 0.0483\n",
      "Epoch 4/50\n",
      "7947/7947 [==============================] - 36s 5ms/step - loss: 6.4610 - accuracy: 0.0696 - val_loss: 9.3538 - val_accuracy: 0.0518\n",
      "Epoch 5/50\n",
      "7947/7947 [==============================] - 36s 5ms/step - loss: 6.0378 - accuracy: 0.0797 - val_loss: 9.4470 - val_accuracy: 0.0493\n",
      "Epoch 6/50\n",
      "7947/7947 [==============================] - 36s 5ms/step - loss: 5.6474 - accuracy: 0.1027 - val_loss: 9.7126 - val_accuracy: 0.0498\n",
      "Epoch 7/50\n",
      "7947/7947 [==============================] - 36s 5ms/step - loss: 5.2196 - accuracy: 0.1326 - val_loss: 9.8140 - val_accuracy: 0.0503\n",
      "Epoch 8/50\n",
      "7947/7947 [==============================] - 38s 5ms/step - loss: 4.7654 - accuracy: 0.1720 - val_loss: 9.9011 - val_accuracy: 0.0468\n",
      "Epoch 9/50\n",
      "7947/7947 [==============================] - 36s 5ms/step - loss: 4.4756 - accuracy: 0.2044 - val_loss: 9.9894 - val_accuracy: 0.0453\n",
      "Epoch 10/50\n",
      "7947/7947 [==============================] - 37s 5ms/step - loss: 4.1571 - accuracy: 0.2498 - val_loss: 10.0372 - val_accuracy: 0.0408\n",
      "Epoch 11/50\n",
      "7947/7947 [==============================] - 40s 5ms/step - loss: 3.8611 - accuracy: 0.3096 - val_loss: 9.9790 - val_accuracy: 0.0413\n",
      "Epoch 12/50\n",
      "7947/7947 [==============================] - 37s 5ms/step - loss: 3.6410 - accuracy: 0.3460 - val_loss: 10.0860 - val_accuracy: 0.0463\n",
      "Epoch 13/50\n",
      "7947/7947 [==============================] - 37s 5ms/step - loss: 3.4093 - accuracy: 0.3863 - val_loss: 10.1336 - val_accuracy: 0.0388\n",
      "Epoch 14/50\n",
      "7947/7947 [==============================] - 38s 5ms/step - loss: 3.2107 - accuracy: 0.4208 - val_loss: 10.1598 - val_accuracy: 0.0377\n",
      "Epoch 15/50\n",
      "7947/7947 [==============================] - 36s 5ms/step - loss: 2.9833 - accuracy: 0.4695 - val_loss: 10.1681 - val_accuracy: 0.0403\n",
      "Epoch 16/50\n",
      "7947/7947 [==============================] - 36s 5ms/step - loss: 2.8755 - accuracy: 0.4950 - val_loss: 10.2158 - val_accuracy: 0.0382\n",
      "Epoch 17/50\n",
      "7947/7947 [==============================] - 36s 5ms/step - loss: 2.6939 - accuracy: 0.5488 - val_loss: 10.2494 - val_accuracy: 0.0388\n",
      "Epoch 18/50\n",
      "7947/7947 [==============================] - 37s 5ms/step - loss: 2.5198 - accuracy: 0.5868 - val_loss: 10.2808 - val_accuracy: 0.0367\n",
      "Epoch 19/50\n",
      "7947/7947 [==============================] - 36s 5ms/step - loss: 2.4110 - accuracy: 0.6025 - val_loss: 10.3048 - val_accuracy: 0.0382\n",
      "Epoch 20/50\n",
      "7947/7947 [==============================] - 36s 5ms/step - loss: 2.3355 - accuracy: 0.6306 - val_loss: 10.3148 - val_accuracy: 0.0377\n",
      "Epoch 21/50\n",
      "7947/7947 [==============================] - 36s 5ms/step - loss: 2.1774 - accuracy: 0.6690 - val_loss: 10.3945 - val_accuracy: 0.0332\n",
      "Epoch 22/50\n",
      "7947/7947 [==============================] - 36s 5ms/step - loss: 2.1595 - accuracy: 0.6655 - val_loss: 10.3437 - val_accuracy: 0.0382\n",
      "Epoch 23/50\n",
      "7947/7947 [==============================] - 36s 5ms/step - loss: 2.0632 - accuracy: 0.6861 - val_loss: 10.4509 - val_accuracy: 0.0362\n",
      "Epoch 24/50\n",
      "7947/7947 [==============================] - 36s 5ms/step - loss: 2.0106 - accuracy: 0.6933 - val_loss: 10.4974 - val_accuracy: 0.0362\n",
      "Epoch 25/50\n",
      "7947/7947 [==============================] - 36s 5ms/step - loss: 1.8894 - accuracy: 0.7232 - val_loss: 10.4854 - val_accuracy: 0.0307\n",
      "Epoch 26/50\n",
      "7947/7947 [==============================] - 36s 5ms/step - loss: 1.8775 - accuracy: 0.7340 - val_loss: 10.5294 - val_accuracy: 0.0327\n",
      "Epoch 27/50\n",
      "7947/7947 [==============================] - 36s 4ms/step - loss: 1.7775 - accuracy: 0.7584 - val_loss: 10.5923 - val_accuracy: 0.0302\n",
      "Epoch 28/50\n",
      "7947/7947 [==============================] - 36s 5ms/step - loss: 1.7108 - accuracy: 0.7595 - val_loss: 10.6166 - val_accuracy: 0.0327\n",
      "Epoch 29/50\n",
      "7947/7947 [==============================] - 36s 4ms/step - loss: 1.7236 - accuracy: 0.7692 - val_loss: 10.6842 - val_accuracy: 0.0352\n",
      "Epoch 30/50\n",
      "7947/7947 [==============================] - 36s 5ms/step - loss: 1.6696 - accuracy: 0.7730 - val_loss: 10.7044 - val_accuracy: 0.0337\n",
      "Epoch 31/50\n",
      "7947/7947 [==============================] - 36s 5ms/step - loss: 1.6268 - accuracy: 0.7849 - val_loss: 10.7210 - val_accuracy: 0.0347\n",
      "Epoch 32/50\n",
      "7947/7947 [==============================] - 36s 4ms/step - loss: 1.5725 - accuracy: 0.8029 - val_loss: 10.7254 - val_accuracy: 0.0347\n",
      "Epoch 33/50\n",
      "7947/7947 [==============================] - 36s 5ms/step - loss: 1.5093 - accuracy: 0.8099 - val_loss: 10.7948 - val_accuracy: 0.0342\n",
      "Epoch 34/50\n",
      "7947/7947 [==============================] - 36s 5ms/step - loss: 1.5097 - accuracy: 0.8121 - val_loss: 10.7921 - val_accuracy: 0.0307\n",
      "Epoch 35/50\n",
      "7947/7947 [==============================] - 37s 5ms/step - loss: 1.4927 - accuracy: 0.8162 - val_loss: 10.8105 - val_accuracy: 0.0327\n",
      "Epoch 36/50\n",
      "7947/7947 [==============================] - 27s 3ms/step - loss: 1.4765 - accuracy: 0.8160 - val_loss: 10.8326 - val_accuracy: 0.0317\n",
      "Epoch 37/50\n",
      "7947/7947 [==============================] - 33s 4ms/step - loss: 1.4868 - accuracy: 0.8100 - val_loss: 10.8339 - val_accuracy: 0.0282\n",
      "Epoch 38/50\n",
      "7947/7947 [==============================] - 41s 5ms/step - loss: 1.4556 - accuracy: 0.8142 - val_loss: 10.8475 - val_accuracy: 0.0307\n",
      "Epoch 39/50\n",
      "7947/7947 [==============================] - 42s 5ms/step - loss: 1.4132 - accuracy: 0.8284 - val_loss: 10.8813 - val_accuracy: 0.0277\n",
      "Epoch 40/50\n",
      "7947/7947 [==============================] - 41s 5ms/step - loss: 1.4153 - accuracy: 0.8286 - val_loss: 10.9083 - val_accuracy: 0.0297\n",
      "Epoch 41/50\n",
      "7947/7947 [==============================] - 41s 5ms/step - loss: 1.4002 - accuracy: 0.8374 - val_loss: 10.9143 - val_accuracy: 0.0297\n",
      "Epoch 42/50\n",
      "7947/7947 [==============================] - 41s 5ms/step - loss: 1.3706 - accuracy: 0.8284 - val_loss: 10.9456 - val_accuracy: 0.0287\n",
      "Epoch 43/50\n",
      "7947/7947 [==============================] - 41s 5ms/step - loss: 1.3758 - accuracy: 0.8326 - val_loss: 10.9470 - val_accuracy: 0.0277\n",
      "Epoch 44/50\n",
      "7947/7947 [==============================] - 41s 5ms/step - loss: 1.3397 - accuracy: 0.8397 - val_loss: 11.0047 - val_accuracy: 0.0307\n",
      "Epoch 45/50\n",
      "7947/7947 [==============================] - 41s 5ms/step - loss: 1.3485 - accuracy: 0.8362 - val_loss: 11.0145 - val_accuracy: 0.0257\n",
      "Epoch 46/50\n",
      "7947/7947 [==============================] - 43s 5ms/step - loss: 1.3442 - accuracy: 0.8390 - val_loss: 10.9906 - val_accuracy: 0.0297\n",
      "Epoch 47/50\n",
      "7947/7947 [==============================] - 42s 5ms/step - loss: 1.3315 - accuracy: 0.8404 - val_loss: 11.0286 - val_accuracy: 0.0277\n",
      "Epoch 48/50\n",
      "7947/7947 [==============================] - 42s 5ms/step - loss: 1.3356 - accuracy: 0.8440 - val_loss: 11.0559 - val_accuracy: 0.0277\n",
      "Epoch 49/50\n",
      "7947/7947 [==============================] - 43s 5ms/step - loss: 1.3091 - accuracy: 0.8459 - val_loss: 11.0763 - val_accuracy: 0.0282\n",
      "Epoch 50/50\n",
      "7947/7947 [==============================] - 45s 6ms/step - loss: 1.3205 - accuracy: 0.8421 - val_loss: 11.0980 - val_accuracy: 0.0257\n"
     ]
    }
   ],
   "source": [
    "#training model\n",
    "history = model.fit(X_train,y_train,batch_size=1,epochs=50,validation_split=0.2)"
   ]
  },
  {
   "cell_type": "code",
   "execution_count": 14,
   "metadata": {},
   "outputs": [],
   "source": [
    "def plot_loss_vs_epochs(fitted, num_epochs, modelname):\n",
    "    accuracy = fitted.history['accuracy']\n",
    "    epochs = range(1,num_epochs+1)\n",
    "    plt.plot(epochs, accuracy, 'g', label='Training loss')\n",
    "    plt.title('Accuracy vs Epochs of ' + modelname)\n",
    "    plt.xlabel('Epochs')\n",
    "    plt.ylabel('Accuracy')\n",
    "    plt.legend()\n",
    "    plt.show()\n"
   ]
  },
  {
   "cell_type": "markdown",
   "metadata": {},
   "source": [
    "***Creating a function to predict `next_word` given `single` or a `list_of_words`***"
   ]
  },
  {
   "cell_type": "code",
   "execution_count": 15,
   "metadata": {},
   "outputs": [],
   "source": [
    "#testing function\n",
    "def predict_next_word(model,tokenizer,text,n_words, n_features):\n",
    "    result=''\n",
    "    out_word=[]\n",
    "    \n",
    "    for i in range(n_words):\n",
    "        encoded_data_list = []\n",
    "        for i in range(n_features):\n",
    "            encoded_data=tokenizer.texts_to_sequences([text[i]])[0]            \n",
    "            encoded_data_list.append(encoded_data[0])\n",
    "            \n",
    "        encoded_data_list=np.array(encoded_data_list)\n",
    "        encoded_data_list=encoded_data_list.reshape(1,n_features)\n",
    "        output=np.argmax(model.predict(encoded_data_list))\n",
    "        \n",
    "        \n",
    "        for index,word in tokenizer.word_index.items():\n",
    "            if word==output:\n",
    "                out_word.append(index)\n",
    "                text.append(index)\n",
    "        text = text[1:]\n",
    "    result=' '.join(out_word)\n",
    "    return result"
   ]
  },
  {
   "cell_type": "markdown",
   "metadata": {},
   "source": [
    "***Plotting accuracy vs number of epochs of Single Layer LSTM model***"
   ]
  },
  {
   "cell_type": "code",
   "execution_count": 16,
   "metadata": {},
   "outputs": [
    {
     "data": {
      "image/png": "[encoded data removed]",
      "text/plain": [
       "<Figure size 432x288 with 1 Axes>"
      ]
     },
     "metadata": {
      "needs_background": "light"
     },
     "output_type": "display_data"
    }
   ],
   "source": [
    "plot_loss_vs_epochs(history, 50, \"ADAM\")"
   ]
  },
  {
   "cell_type": "code",
   "execution_count": 17,
   "metadata": {},
   "outputs": [
    {
     "name": "stdout",
     "output_type": "stream",
     "text": [
      "Training Accuracy:  0.7205\n",
      "Testing Accuracy:  0.0264\n"
     ]
    }
   ],
   "source": [
    "loss_tr, accuracy_tr = model.evaluate(X_train, y_train, verbose=False)\n",
    "print(\"Training Accuracy:  {:.4f}\".format(accuracy_tr)) \n",
    "\n",
    "loss, accuracy = model.evaluate(X_test, y_test, verbose=False)\n",
    "print(\"Testing Accuracy:  {:.4f}\".format(accuracy))        "
   ]
  },
  {
   "cell_type": "markdown",
   "metadata": {},
   "source": [
    "***OBSERVATION:***\n",
    "> \n",
    "Training Accuracy of Single Layer LSTM : 72.05%\n",
    "> \n",
    "Testing Accuracy of Single Layer LSTM : 2.64%"
   ]
  },
  {
   "cell_type": "code",
   "execution_count": 18,
   "metadata": {},
   "outputs": [
    {
     "data": {
      "text/plain": [
       "\"years n rise n n month october first september 's\""
      ]
     },
     "execution_count": 18,
     "metadata": {},
     "output_type": "execute_result"
    }
   ],
   "source": [
    "#testing \n",
    "predict_next_word(model,tokenizer,['jones', 'friday', 'industrial', 'average', 'stock'],10, num_features)"
   ]
  }
 ],
 "metadata": {
  "kernelspec": {
   "display_name": "Python 3",
   "language": "python",
   "name": "python3"
  },
  "language_info": {
   "codemirror_mode": {
    "name": "ipython",
    "version": 3
   },
   "file_extension": ".py",
   "mimetype": "text/x-python",
   "name": "python",
   "nbconvert_exporter": "python",
   "pygments_lexer": "ipython3",
   "version": "3.8.5"
  }
 },
 "nbformat": 4,
 "nbformat_minor": 4
}
