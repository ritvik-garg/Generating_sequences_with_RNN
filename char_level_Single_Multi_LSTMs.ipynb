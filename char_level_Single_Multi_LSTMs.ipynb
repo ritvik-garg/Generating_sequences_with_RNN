{
 "cells": [
  {
   "cell_type": "code",
   "execution_count": null,
   "metadata": {
    "id": "umB6RxdDa55G"
   },
   "outputs": [],
   "source": [
    "# import necessary libraries\n",
    "import numpy as np\n",
    "import matplotlib.pyplot as plt\n",
    "import pandas as pd\n",
    "from keras.utils import np_utils\n",
    "import treebank\n",
    "import nltk\n",
    "from nltk.corpus import stopwords\n",
    "from nltk.tokenize import word_tokenize\n",
    "\n",
    "#import libraries for model building\n",
    "from tensorflow.keras.models import Sequential\n",
    "from tensorflow.keras.layers import LSTM,Dense,Embedding,Dropout\n",
    "from keras.callbacks import ModelCheckpoint"
   ]
  },
  {
   "cell_type": "markdown",
   "metadata": {
    "id": "GlnHE0VxBM48"
   },
   "source": [
    "***Uncomment below cell to download Penn Treebank Dataset and NLTK library***"
   ]
  },
  {
   "cell_type": "code",
   "execution_count": null,
   "metadata": {
    "id": "cDrGOIzwjYLR"
   },
   "outputs": [],
   "source": [
    "# !pip install --upgrade treebank\n",
    "# !pip install nltk"
   ]
  },
  {
   "cell_type": "code",
   "execution_count": null,
   "metadata": {
    "colab": {
     "base_uri": "https://localhost:8080/"
    },
    "id": "78_g3sTioFho",
    "outputId": "eac8d55b-e91f-44c6-af53-ae5aadf02aa8"
   },
   "outputs": [
    {
     "data": {
      "text/plain": [
       "5101619"
      ]
     },
     "execution_count": 3,
     "metadata": {
      "tags": []
     },
     "output_type": "execute_result"
    }
   ],
   "source": [
    "len(treebank.penn['train']) #characters"
   ]
  },
  {
   "cell_type": "code",
   "execution_count": null,
   "metadata": {
    "colab": {
     "base_uri": "https://localhost:8080/",
     "height": 35
    },
    "id": "lpXfIoUmoFkG",
    "outputId": "de5d553e-c3de-4599-e520-ffa68df5428f"
   },
   "outputs": [
    {
     "data": {
      "text/plain": [
       "' aer bankn'"
      ]
     },
     "execution_count": 4,
     "metadata": {
      "tags": []
     },
     "output_type": "execute_result"
    }
   ],
   "source": [
    "treebank.penn['train'][0:10]"
   ]
  },
  {
   "cell_type": "markdown",
   "metadata": {
    "id": "krjyT1-HBaK4"
   },
   "source": [
    "***Taking subset of the whole dataset as training data (100000 characters)***"
   ]
  },
  {
   "cell_type": "code",
   "execution_count": null,
   "metadata": {
    "id": "N_feyZlwoLZ0"
   },
   "outputs": [],
   "source": [
    "data = treebank.penn['train'][0:100000]\n",
    "data = data.lower()"
   ]
  },
  {
   "cell_type": "markdown",
   "metadata": {
    "id": "9aUgqDsqBrSc"
   },
   "source": [
    "***Data Preprocessing***"
   ]
  },
  {
   "cell_type": "code",
   "execution_count": null,
   "metadata": {
    "id": "fd1M63YiBA4F",
    "outputId": "d3172acd-7c20-4177-8022-aff6bdfec80f"
   },
   "outputs": [
    {
     "name": "stdout",
     "output_type": "stream",
     "text": [
      "['ipo', 'kia', 'memotec', 'mlx', 'nahb', 'punts', 'rake', 'regatta', 'rubens', 'sim', 'snack-food', 'ssangyong', 'swapo', 'wachter', 'pierre', '<', 'unk', '>', 'n', 'years', 'old', 'will', 'join', 'the', 'board', 'as', 'a', 'nonexecutive', 'director', 'nov.', 'n', 'mr.', '<', 'unk', '>', 'is', 'chairman', 'of', '<', 'unk']\n",
      "['ipo', 'kia', 'memotec', 'mlx', 'nahb', 'punts', 'rake', 'regatta', 'rubens', 'sim', 'snack-food', 'ssangyong', 'swapo', 'wachter', 'pierre', 'n', 'years', 'old', 'will', 'join', 'the', 'board', 'as', 'a', 'nonexecutive', 'director', 'nov.', 'n', 'mr.', 'is', 'chairman', 'of', 'n.v.', 'the', 'dutch', 'publishing', 'group', 'rudolph', 'n', 'years']\n"
     ]
    }
   ],
   "source": [
    "unknown_chars = {'unk','>','<','\\n'}\n",
    "\n",
    "word_tokens = word_tokenize(data)\n",
    "\n",
    "# final sentence list where stop words are eliminated\n",
    "filtered_sentence = [w for w in word_tokens if not w in unknown_chars]\n",
    "\n",
    "print(word_tokens[10:50])\n",
    "print(filtered_sentence[10:50])"
   ]
  },
  {
   "cell_type": "code",
   "execution_count": null,
   "metadata": {
    "id": "B2Y3P5oIBA4F"
   },
   "outputs": [],
   "source": [
    "data_f = \" \"\n",
    "data_final = data_f.join(filtered_sentence) #creating final data from list\n",
    "chars = sorted(list(set(data_final)))\n",
    "\n",
    "# creating dictionary of letters mapped to integers\n",
    "char_to_int = dict((c, i) for i, c in enumerate(chars))"
   ]
  },
  {
   "cell_type": "code",
   "execution_count": null,
   "metadata": {
    "colab": {
     "base_uri": "https://localhost:8080/"
    },
    "id": "fZS4oPP7jYPf",
    "outputId": "5bb71d6c-741a-458f-cb2d-52f9a2a07cfb"
   },
   "outputs": [
    {
     "name": "stdout",
     "output_type": "stream",
     "text": [
      "Total Characters:  92090\n",
      "Total Vocab:  40\n"
     ]
    }
   ],
   "source": [
    "n_chars = len(data_final)\n",
    "n_vocab = len(chars)\n",
    "print(\"Total Characters: \", n_chars)\n",
    "print(\"Total Vocab: \", n_vocab)"
   ]
  },
  {
   "cell_type": "markdown",
   "metadata": {
    "id": "hR8B6OU1B12Q"
   },
   "source": [
    "***Creating input features of length `seq_length` and single output feature***"
   ]
  },
  {
   "cell_type": "code",
   "execution_count": null,
   "metadata": {
    "colab": {
     "base_uri": "https://localhost:8080/"
    },
    "id": "DaqpSlLfn8j6",
    "outputId": "df320a63-1920-4ac7-8abd-4e4f66e3e261"
   },
   "outputs": [
    {
     "name": "stdout",
     "output_type": "stream",
     "text": [
      "Total Patterns:  92060\n"
     ]
    }
   ],
   "source": [
    "# prepare the dataset of input to output pairs encoded as integers\n",
    "seq_length = 30\n",
    "dataX = []\n",
    "dataY = []\n",
    "for i in range(0, n_chars - seq_length, 1):\n",
    "    seq_in = data_final[i:i + seq_length]\n",
    "    seq_out = data_final[i + seq_length]\n",
    "    dataX.append([char_to_int[char] for char in seq_in])\n",
    "    dataY.append(char_to_int[seq_out])\n",
    "n_patterns = len(dataX)\n",
    "print(\"Total Patterns: \", n_patterns)"
   ]
  },
  {
   "cell_type": "code",
   "execution_count": null,
   "metadata": {
    "id": "y4ngH1eNjYR0"
   },
   "outputs": [],
   "source": [
    "# reshape X to be [samples, time steps, features]\n",
    "X = np.reshape(dataX, (n_patterns, seq_length, 1))\n",
    "# normalization\n",
    "X = X / float(n_vocab)\n",
    "# one hot encode the output variable\n",
    "y = np_utils.to_categorical(dataY)"
   ]
  },
  {
   "cell_type": "markdown",
   "metadata": {
    "id": "mKloWAACCGl1"
   },
   "source": [
    "***Define single layer LSTM model, with dropout=20% and optimizer=\"adam\"***"
   ]
  },
  {
   "cell_type": "code",
   "execution_count": null,
   "metadata": {
    "id": "nmsm1YMGjYUE"
   },
   "outputs": [],
   "source": [
    "model = Sequential()\n",
    "model.add(LSTM(256, input_shape=(X.shape[1], X.shape[2])))\n",
    "model.add(Dropout(0.2))\n",
    "model.add(Dense(y.shape[1], activation='softmax'))\n",
    "model.compile(loss='categorical_crossentropy', optimizer='adam',metrics = ['accuracy'])"
   ]
  },
  {
   "cell_type": "code",
   "execution_count": null,
   "metadata": {
    "id": "hsnsFADkjYWM"
   },
   "outputs": [],
   "source": [
    "# define the checkpoint\n",
    "filepath=\"weights-improvement-{epoch:02d}-{loss:.4f}.hdf5\"\n",
    "checkpoint = ModelCheckpoint(filepath, monitor='loss', verbose=1, save_best_only=True, mode='min')\n",
    "callbacks_list = [checkpoint]"
   ]
  },
  {
   "cell_type": "code",
   "execution_count": null,
   "metadata": {
    "colab": {
     "base_uri": "https://localhost:8080/"
    },
    "id": "zC_eohISjYYt",
    "outputId": "cd724e09-dfa5-4a59-e285-24603e80d213"
   },
   "outputs": [
    {
     "name": "stdout",
     "output_type": "stream",
     "text": [
      "Epoch 1/20\n",
      "720/720 [==============================] - 71s 96ms/step - loss: 2.9489 - accuracy: 0.1680\n",
      "\n",
      "Epoch 00001: loss improved from inf to 2.88674, saving model to weights-improvement-01-2.8867.hdf5\n",
      "Epoch 2/20\n",
      "720/720 [==============================] - 67s 94ms/step - loss: 2.7900 - accuracy: 0.2056\n",
      "\n",
      "Epoch 00002: loss improved from 2.88674 to 2.77324, saving model to weights-improvement-02-2.7732.hdf5\n",
      "Epoch 3/20\n",
      "720/720 [==============================] - 66s 92ms/step - loss: 2.7279 - accuracy: 0.2230\n",
      "\n",
      "Epoch 00003: loss improved from 2.77324 to 2.71364, saving model to weights-improvement-03-2.7136.hdf5\n",
      "Epoch 4/20\n",
      "720/720 [==============================] - 67s 92ms/step - loss: 2.6796 - accuracy: 0.2308\n",
      "\n",
      "Epoch 00004: loss improved from 2.71364 to 2.67145, saving model to weights-improvement-04-2.6714.hdf5\n",
      "Epoch 5/20\n",
      "720/720 [==============================] - 66s 91ms/step - loss: 2.6419 - accuracy: 0.2383\n",
      "\n",
      "Epoch 00005: loss improved from 2.67145 to 2.63724, saving model to weights-improvement-05-2.6372.hdf5\n",
      "Epoch 6/20\n",
      "720/720 [==============================] - 65s 90ms/step - loss: 2.6165 - accuracy: 0.2419\n",
      "\n",
      "Epoch 00006: loss improved from 2.63724 to 2.60780, saving model to weights-improvement-06-2.6078.hdf5\n",
      "Epoch 7/20\n",
      "720/720 [==============================] - 65s 90ms/step - loss: 2.5830 - accuracy: 0.24670s - loss: 2.5831 \n",
      "\n",
      "Epoch 00007: loss improved from 2.60780 to 2.58039, saving model to weights-improvement-07-2.5804.hdf5\n",
      "Epoch 8/20\n",
      "720/720 [==============================] - 69s 96ms/step - loss: 2.5548 - accuracy: 0.2520\n",
      "\n",
      "Epoch 00008: loss improved from 2.58039 to 2.55318, saving model to weights-improvement-08-2.5532.hdf5\n",
      "Epoch 9/20\n",
      "720/720 [==============================] - 71s 98ms/step - loss: 2.5310 - accuracy: 0.2580\n",
      "\n",
      "Epoch 00009: loss improved from 2.55318 to 2.52622, saving model to weights-improvement-09-2.5262.hdf5\n",
      "Epoch 10/20\n",
      "720/720 [==============================] - 70s 97ms/step - loss: 2.4985 - accuracy: 0.2667\n",
      "\n",
      "Epoch 00010: loss improved from 2.52622 to 2.49778, saving model to weights-improvement-10-2.4978.hdf5\n",
      "Epoch 11/20\n",
      "720/720 [==============================] - 70s 97ms/step - loss: 2.4758 - accuracy: 0.2713\n",
      "\n",
      "Epoch 00011: loss improved from 2.49778 to 2.47000, saving model to weights-improvement-11-2.4700.hdf5\n",
      "Epoch 12/20\n",
      "720/720 [==============================] - 70s 97ms/step - loss: 2.4402 - accuracy: 0.2787\n",
      "\n",
      "Epoch 00012: loss improved from 2.47000 to 2.43776, saving model to weights-improvement-12-2.4378.hdf5\n",
      "Epoch 13/20\n",
      "720/720 [==============================] - 70s 97ms/step - loss: 2.4102 - accuracy: 0.2888\n",
      "\n",
      "Epoch 00013: loss improved from 2.43776 to 2.40391, saving model to weights-improvement-13-2.4039.hdf5\n",
      "Epoch 14/20\n",
      "720/720 [==============================] - 70s 98ms/step - loss: 2.3798 - accuracy: 0.2986\n",
      "\n",
      "Epoch 00014: loss improved from 2.40391 to 2.37302, saving model to weights-improvement-14-2.3730.hdf5\n",
      "Epoch 15/20\n",
      "720/720 [==============================] - 70s 97ms/step - loss: 2.3250 - accuracy: 0.3134\n",
      "\n",
      "Epoch 00015: loss improved from 2.37302 to 2.33846, saving model to weights-improvement-15-2.3385.hdf5\n",
      "Epoch 16/20\n",
      "720/720 [==============================] - 70s 98ms/step - loss: 2.2990 - accuracy: 0.3187\n",
      "\n",
      "Epoch 00016: loss improved from 2.33846 to 2.30270, saving model to weights-improvement-16-2.3027.hdf5\n",
      "Epoch 17/20\n",
      "720/720 [==============================] - 73s 101ms/step - loss: 2.2679 - accuracy: 0.3305\n",
      "\n",
      "Epoch 00017: loss improved from 2.30270 to 2.26738, saving model to weights-improvement-17-2.2674.hdf5\n",
      "Epoch 18/20\n",
      "720/720 [==============================] - 72s 101ms/step - loss: 2.2238 - accuracy: 0.3415\n",
      "\n",
      "Epoch 00018: loss improved from 2.26738 to 2.23087, saving model to weights-improvement-18-2.2309.hdf5\n",
      "Epoch 19/20\n",
      "720/720 [==============================] - 71s 98ms/step - loss: 2.1835 - accuracy: 0.3535\n",
      "\n",
      "Epoch 00019: loss improved from 2.23087 to 2.19387, saving model to weights-improvement-19-2.1939.hdf5\n",
      "Epoch 20/20\n",
      "720/720 [==============================] - 69s 95ms/step - loss: 2.1540 - accuracy: 0.3609\n",
      "\n",
      "Epoch 00020: loss improved from 2.19387 to 2.16059, saving model to weights-improvement-20-2.1606.hdf5\n"
     ]
    }
   ],
   "source": [
    "history_single = model.fit(X, y, epochs=20, batch_size=128, callbacks=callbacks_list)"
   ]
  },
  {
   "cell_type": "code",
   "execution_count": null,
   "metadata": {
    "id": "Ai87oE1kBA4J"
   },
   "outputs": [],
   "source": [
    "def plot_loss_vs_epochs(fitted, num_epochs, modelname):\n",
    "    accuracy = fitted.history['accuracy']\n",
    "    epochs = range(1,num_epochs+1)\n",
    "    plt.plot(epochs, accuracy, 'g', label='Training loss')\n",
    "    plt.title('Accuracy vs Epochs of ' + modelname)\n",
    "    plt.xlabel('Epochs')\n",
    "    plt.ylabel('Accuracy')\n",
    "    plt.legend()\n",
    "    plt.show()\n"
   ]
  },
  {
   "cell_type": "markdown",
   "metadata": {
    "id": "DzrWBIDBCb3E"
   },
   "source": [
    "***Plotting accuracy vs number of epochs of Single Layer LSTM model***"
   ]
  },
  {
   "cell_type": "code",
   "execution_count": null,
   "metadata": {
    "id": "dVpzI0vEBA4J",
    "outputId": "5f66434f-d6b5-42eb-adbe-aec0533227f0"
   },
   "outputs": [
    {
     "data": {
      "image/png": "[encoded data removed]",
      "text/plain": [
       "<Figure size 432x288 with 1 Axes>"
      ]
     },
     "metadata": {
      "needs_background": "light",
      "tags": []
     },
     "output_type": "display_data"
    }
   ],
   "source": [
    "plot_loss_vs_epochs(history_single, 20, \"ADAM\")"
   ]
  },
  {
   "cell_type": "code",
   "execution_count": null,
   "metadata": {
    "id": "kaU5A9KqjYa3"
   },
   "outputs": [],
   "source": [
    "# load the network weights\n",
    "filename = \"weights-improvement-20-2.1606.hdf5\"\n",
    "model.load_weights(filename)\n",
    "model.compile(loss='categorical_crossentropy', optimizer='adam',metrics = ['accuracy'])"
   ]
  },
  {
   "cell_type": "code",
   "execution_count": null,
   "metadata": {
    "id": "WQoFCx6gjYdL"
   },
   "outputs": [],
   "source": [
    "# dictionary for reverse mapping from int to char\n",
    "int_to_char = dict((i, c) for i, c in enumerate(chars))"
   ]
  },
  {
   "cell_type": "markdown",
   "metadata": {
    "id": "r8veAHWuCnCf"
   },
   "source": [
    "***Testing data with a random sequence of data, and predicting sequence of length 200 characters.***"
   ]
  },
  {
   "cell_type": "code",
   "execution_count": null,
   "metadata": {
    "colab": {
     "base_uri": "https://localhost:8080/",
     "height": 472
    },
    "id": "Sxelf1yfjYfK",
    "outputId": "fda72acb-0492-44a9-b564-0ae591659b27"
   },
   "outputs": [
    {
     "name": "stdout",
     "output_type": "stream",
     "text": [
      "Seed:\n",
      "\"  returned to greenville two da \"\n",
      "nl to tee soete oe the paseon las seeered the company said the pasion the came th the tas an the pesion as the paseon ln the company said the pasion the came th the tas an the pesion as the paseon ln \n",
      "Done.\n"
     ]
    }
   ],
   "source": [
    "# pick a random seed\n",
    "import sys\n",
    "start = np.random.randint(0, len(dataX)-1)\n",
    "pattern = dataX[start]\n",
    "print(\"Seed:\")\n",
    "print(\"\\\"\", ''.join([int_to_char[value] for value in pattern]), \"\\\"\")\n",
    "\n",
    "# generate characters\n",
    "for i in range(200):\n",
    "    x = np.reshape(pattern, (1, len(pattern), 1))\n",
    "    x = x / float(n_vocab)\n",
    "    prediction = model.predict(x, verbose=0)\n",
    "    index = np.argmax(prediction)\n",
    "    result = int_to_char[index]\n",
    "    seq_in = [int_to_char[value] for value in pattern]\n",
    "    sys.stdout.write(result)\n",
    "    pattern.append(index)\n",
    "    pattern = pattern[1:len(pattern)]\n",
    "print(\"\\nDone.\")"
   ]
  },
  {
   "cell_type": "markdown",
   "metadata": {
    "id": "tGlZ-yF6Cy33"
   },
   "source": [
    "***Define multi-layer LSTM model, with dropout=20% and optimizer=\"adam\"***"
   ]
  },
  {
   "cell_type": "code",
   "execution_count": null,
   "metadata": {
    "id": "JEFZOzWTBA4L"
   },
   "outputs": [],
   "source": [
    "# define the multilayer LSTM model\n",
    "model_multi = Sequential()\n",
    "model_multi.add(LSTM(256, input_shape=(X.shape[1], X.shape[2]), return_sequences = True))\n",
    "model_multi.add(Dropout(0.2))\n",
    "model_multi.add(LSTM(256))\n",
    "model_multi.add(Dropout(0.2))\n",
    "model_multi.add(Dense(y.shape[1], activation='softmax'))\n",
    "model_multi.compile(loss='categorical_crossentropy', optimizer='adam',metrics = ['accuracy'])"
   ]
  },
  {
   "cell_type": "code",
   "execution_count": null,
   "metadata": {
    "id": "X50JnWiEBA4L"
   },
   "outputs": [],
   "source": [
    "# define the checkpoint\n",
    "filepath=\"weights-improvement-{epoch:02d}-{loss:.4f}.hdf5\"\n",
    "checkpoint = ModelCheckpoint(filepath, monitor='loss', verbose=1, save_best_only=True, mode='min')\n",
    "callbacks_list = [checkpoint]"
   ]
  },
  {
   "cell_type": "code",
   "execution_count": null,
   "metadata": {
    "id": "w-7RHW0MBA4M",
    "outputId": "9cf56d96-fc48-4ec4-a7a2-d0bf2afa993e"
   },
   "outputs": [
    {
     "name": "stdout",
     "output_type": "stream",
     "text": [
      "Epoch 1/20\n",
      "720/720 [==============================] - 192s 261ms/step - loss: 2.9265 - accuracy: 0.1719\n",
      "\n",
      "Epoch 00001: loss improved from inf to 2.85404, saving model to weights-improvement-01-2.8540.hdf5\n",
      "Epoch 2/20\n",
      "720/720 [==============================] - 173s 240ms/step - loss: 2.6868 - accuracy: 0.2269\n",
      "\n",
      "Epoch 00002: loss improved from 2.85404 to 2.65637, saving model to weights-improvement-02-2.6564.hdf5\n",
      "Epoch 3/20\n",
      "720/720 [==============================] - 172s 239ms/step - loss: 2.5679 - accuracy: 0.2482\n",
      "\n",
      "Epoch 00003: loss improved from 2.65637 to 2.55488, saving model to weights-improvement-03-2.5549.hdf5\n",
      "Epoch 4/20\n",
      "720/720 [==============================] - 173s 240ms/step - loss: 2.4784 - accuracy: 0.2702\n",
      "\n",
      "Epoch 00004: loss improved from 2.55488 to 2.45425, saving model to weights-improvement-04-2.4542.hdf5\n",
      "Epoch 5/20\n",
      "720/720 [==============================] - 172s 239ms/step - loss: 2.3763 - accuracy: 0.2992\n",
      "\n",
      "Epoch 00005: loss improved from 2.45425 to 2.35162, saving model to weights-improvement-05-2.3516.hdf5\n",
      "Epoch 6/20\n",
      "720/720 [==============================] - 172s 238ms/step - loss: 2.2717 - accuracy: 0.3317\n",
      "\n",
      "Epoch 00006: loss improved from 2.35162 to 2.25541, saving model to weights-improvement-06-2.2554.hdf5\n",
      "Epoch 7/20\n",
      "720/720 [==============================] - 172s 238ms/step - loss: 2.1773 - accuracy: 0.3622\n",
      "\n",
      "Epoch 00007: loss improved from 2.25541 to 2.16781, saving model to weights-improvement-07-2.1678.hdf5\n",
      "Epoch 8/20\n",
      "720/720 [==============================] - 172s 238ms/step - loss: 2.1035 - accuracy: 0.3780\n",
      "\n",
      "Epoch 00008: loss improved from 2.16781 to 2.09361, saving model to weights-improvement-08-2.0936.hdf5\n",
      "Epoch 9/20\n",
      "720/720 [==============================] - 173s 240ms/step - loss: 2.0450 - accuracy: 0.4000\n",
      "\n",
      "Epoch 00009: loss improved from 2.09361 to 2.03006, saving model to weights-improvement-09-2.0301.hdf5\n",
      "Epoch 10/20\n",
      "720/720 [==============================] - 172s 239ms/step - loss: 1.9770 - accuracy: 0.4154\n",
      "\n",
      "Epoch 00010: loss improved from 2.03006 to 1.97342, saving model to weights-improvement-10-1.9734.hdf5\n",
      "Epoch 11/20\n",
      "720/720 [==============================] - 171s 238ms/step - loss: 1.9207 - accuracy: 0.4347\n",
      "\n",
      "Epoch 00011: loss improved from 1.97342 to 1.92157, saving model to weights-improvement-11-1.9216.hdf5\n",
      "Epoch 12/20\n",
      "720/720 [==============================] - 171s 238ms/step - loss: 1.8727 - accuracy: 0.4466\n",
      "\n",
      "Epoch 00012: loss improved from 1.92157 to 1.87829, saving model to weights-improvement-12-1.8783.hdf5\n",
      "Epoch 13/20\n",
      "720/720 [==============================] - 187s 260ms/step - loss: 1.8368 - accuracy: 0.4578\n",
      "\n",
      "Epoch 00013: loss improved from 1.87829 to 1.83464, saving model to weights-improvement-13-1.8346.hdf5\n",
      "Epoch 14/20\n",
      "720/720 [==============================] - 200s 278ms/step - loss: 1.7839 - accuracy: 0.4719\n",
      "\n",
      "Epoch 00014: loss improved from 1.83464 to 1.79445, saving model to weights-improvement-14-1.7944.hdf5\n",
      "Epoch 15/20\n",
      "720/720 [==============================] - 200s 278ms/step - loss: 1.7612 - accuracy: 0.4772\n",
      "\n",
      "Epoch 00015: loss improved from 1.79445 to 1.76274, saving model to weights-improvement-15-1.7627.hdf5\n",
      "Epoch 16/20\n",
      "720/720 [==============================] - 201s 279ms/step - loss: 1.7214 - accuracy: 0.4904\n",
      "\n",
      "Epoch 00016: loss improved from 1.76274 to 1.72910, saving model to weights-improvement-16-1.7291.hdf5\n",
      "Epoch 17/20\n",
      "720/720 [==============================] - 169s 235ms/step - loss: 1.6826 - accuracy: 0.4997\n",
      "\n",
      "Epoch 00017: loss improved from 1.72910 to 1.69618, saving model to weights-improvement-17-1.6962.hdf5\n",
      "Epoch 18/20\n",
      "720/720 [==============================] - 168s 233ms/step - loss: 1.6589 - accuracy: 0.5049\n",
      "\n",
      "Epoch 00018: loss improved from 1.69618 to 1.66857, saving model to weights-improvement-18-1.6686.hdf5\n",
      "Epoch 19/20\n",
      "720/720 [==============================] - 169s 235ms/step - loss: 1.6310 - accuracy: 0.5140\n",
      "\n",
      "Epoch 00019: loss improved from 1.66857 to 1.64304, saving model to weights-improvement-19-1.6430.hdf5\n",
      "Epoch 20/20\n",
      "720/720 [==============================] - 169s 235ms/step - loss: 1.5971 - accuracy: 0.5204\n",
      "\n",
      "Epoch 00020: loss improved from 1.64304 to 1.61271, saving model to weights-improvement-20-1.6127.hdf5\n"
     ]
    }
   ],
   "source": [
    "history_multi = model_multi.fit(X, y, epochs=20, batch_size=128, callbacks=callbacks_list)"
   ]
  },
  {
   "cell_type": "markdown",
   "metadata": {
    "id": "tMHS1lFBDM3z"
   },
   "source": [
    "***OBSERVATION:***\n",
    "> \n",
    "Accuracy of Single Layer LSTM : 36.09%\n",
    "> \n",
    "Accuracy of Multi-Layer LSTM : 52.04%\n",
    "> \n",
    "We observe that Multi-Layer LSTM performs relatively better than Single Layer LSTM"
   ]
  },
  {
   "cell_type": "code",
   "execution_count": null,
   "metadata": {
    "id": "9MoDov84BA4M"
   },
   "outputs": [],
   "source": [
    "# load the network weights\n",
    "filename = \"weights-improvement-20-1.6127.hdf5\"\n",
    "model_multi.load_weights(filename)\n",
    "model_multi.compile(loss='categorical_crossentropy', optimizer='adam',metrics = ['accuracy'])"
   ]
  },
  {
   "cell_type": "code",
   "execution_count": null,
   "metadata": {
    "id": "WghQW73bBA4N"
   },
   "outputs": [],
   "source": [
    "# dictionary for reverse mapping from int to char\n",
    "int_to_char = dict((i, c) for i, c in enumerate(chars))"
   ]
  },
  {
   "cell_type": "code",
   "execution_count": null,
   "metadata": {
    "id": "8B_tBuQdBA4N",
    "outputId": "24ff955e-db4e-4c0a-dc89-0ae6f8edf115"
   },
   "outputs": [
    {
     "name": "stdout",
     "output_type": "stream",
     "text": [
      "Seed:\n",
      "\"  returned to greenville two danl \"\n",
      " to tee rresein the mas po peeind the compiryeo oa desertie the compery said the pasion the came th the tas an the pesion th the case th the tas an the pesion th the case th the tas an the pesion th t\n",
      "Done.\n"
     ]
    }
   ],
   "source": [
    "# pick a random seed\n",
    "import sys\n",
    "# start = np.random.randint(0, len(dataX)-1)\n",
    "pattern = dataX[start]\n",
    "print(\"Seed:\")\n",
    "print(\"\\\"\", ''.join([int_to_char[value] for value in pattern]), \"\\\"\")\n",
    "\n",
    "# generate characters\n",
    "for i in range(200):\n",
    "    x = np.reshape(pattern, (1, len(pattern), 1))\n",
    "    x = x / float(n_vocab)\n",
    "    prediction = model.predict(x, verbose=0)\n",
    "    index = np.argmax(prediction)\n",
    "    result = int_to_char[index]\n",
    "    seq_in = [int_to_char[value] for value in pattern]\n",
    "    sys.stdout.write(result)\n",
    "    pattern.append(index)\n",
    "    pattern = pattern[1:len(pattern)]\n",
    "print(\"\\nDone.\")"
   ]
  },
  {
   "cell_type": "markdown",
   "metadata": {
    "id": "H-QEN23xEKX8"
   },
   "source": [
    "***Plotting accuracy vs number of epochs of Multi-Layer LSTM model***"
   ]
  },
  {
   "cell_type": "code",
   "execution_count": null,
   "metadata": {
    "id": "f62H3dq7BA4N",
    "outputId": "77847ee4-7a06-4866-ab2e-dd5fea0b3a73"
   },
   "outputs": [
    {
     "data": {
      "image/png": "[encoded data removed]",
      "text/plain": [
       "<Figure size 432x288 with 1 Axes>"
      ]
     },
     "metadata": {
      "needs_background": "light",
      "tags": []
     },
     "output_type": "display_data"
    }
   ],
   "source": [
    "plot_loss_vs_epochs(history_multi, 20, \"ADAM\")"
   ]
  }
 ],
 "metadata": {
  "colab": {
   "collapsed_sections": [],
   "name": "charlevel_LSTMs.ipynb",
   "provenance": []
  },
  "kernelspec": {
   "display_name": "Python 3",
   "language": "python",
   "name": "python3"
  },
  "language_info": {
   "codemirror_mode": {
    "name": "ipython",
    "version": 3
   },
   "file_extension": ".py",
   "mimetype": "text/x-python",
   "name": "python",
   "nbconvert_exporter": "python",
   "pygments_lexer": "ipython3",
   "version": "3.8.5"
  }
 },
 "nbformat": 4,
 "nbformat_minor": 1
}
